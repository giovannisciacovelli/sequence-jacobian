{
 "cells": [
  {
   "cell_type": "code",
   "execution_count": 1,
   "id": "a9bbe88a",
   "metadata": {},
   "outputs": [
    {
     "data": {
      "text/html": [
       "<style>.container {width:100% !important; }</style>"
      ],
      "text/plain": [
       "<IPython.core.display.HTML object>"
      ]
     },
     "metadata": {},
     "output_type": "display_data"
    }
   ],
   "source": [
    "from IPython.core.display import display, HTML\n",
    "display(HTML(\"<style>.container {width:100% !important; }</style>\"))"
   ]
  },
  {
   "cell_type": "code",
   "execution_count": 2,
   "id": "f1a1dede",
   "metadata": {},
   "outputs": [],
   "source": [
    "# Import packages\n",
    "import numpy as np\n",
    "import matplotlib.pyplot as plt\n",
    "\n",
    "import sys\n",
    "sys.path.append('../')\n",
    "\n",
    "import utils\n",
    "from het_block import het\n",
    "import simple_block as sim\n",
    "from simple_block import simple\n",
    "import jacobian as jac\n",
    "# import nonlinear\n",
    "import hank\n",
    "# import determinacy as det"
   ]
  },
  {
   "cell_type": "code",
   "execution_count": 3,
   "id": "67ab7338",
   "metadata": {},
   "outputs": [],
   "source": [
    "# Add Transfers function to households block\n",
    "def transfers(pi_e, Div, Tax, e_grid, div_rule, tax_rule):    \n",
    "    div = Div / np.sum(pi_e * div_rule) * div_rule\n",
    "    tax = Tax / np.sum(pi_e * tax_rule) * tax_rule\n",
    "    T = div - tax\n",
    "    return T\n",
    "\n",
    "household = hank.household.attach_hetinput(transfers)"
   ]
  },
  {
   "cell_type": "code",
   "execution_count": 4,
   "id": "fd214190",
   "metadata": {},
   "outputs": [
    {
     "data": {
      "text/plain": [
       "({'Pi',\n",
       "  'T',\n",
       "  'a_grid',\n",
       "  'beta',\n",
       "  'c_const',\n",
       "  'e_grid',\n",
       "  'eis',\n",
       "  'frisch',\n",
       "  'n_const',\n",
       "  'r',\n",
       "  'ssflag',\n",
       "  'vphi',\n",
       "  'w'},\n",
       " {'A', 'C', 'N', 'NS'},\n",
       " {'Div',\n",
       "  'Pi',\n",
       "  'Tax',\n",
       "  'a_grid',\n",
       "  'beta',\n",
       "  'c_const',\n",
       "  'div_rule',\n",
       "  'e_grid',\n",
       "  'eis',\n",
       "  'frisch',\n",
       "  'n_const',\n",
       "  'pi_e',\n",
       "  'r',\n",
       "  'ssflag',\n",
       "  'tax_rule',\n",
       "  'vphi',\n",
       "  'w'})"
      ]
     },
     "execution_count": 4,
     "metadata": {},
     "output_type": "execute_result"
    }
   ],
   "source": [
    "hank.household.inputs, hank.household.outputs, household.inputs"
   ]
  },
  {
   "cell_type": "code",
   "execution_count": 5,
   "id": "56ed703f",
   "metadata": {},
   "outputs": [],
   "source": [
    "# SS solver\n",
    "def hank_ss(beta_guess=0.986, vphi_guess=0.8, r=0.005, eis=0.5, frisch=0.5, mu=1.2, B_Y=5.6, rho_s=0.966, sigma_s=0.5,\n",
    "            kappa=0.1, phi=1.5, nS=7, amax=150, nA=500, tax_rule=None, div_rule=None, Tax=0.228):\n",
    "    \"\"\"Solve steady state of full GE model. Calibrate (beta, vphi) to hit target for interest rate and Y.\"\"\"\n",
    "\n",
    "    # set up grid\n",
    "    a_grid = utils.agrid(amax=amax, n=nA)\n",
    "    e_grid, pi_e, Pi = utils.markov_rouwenhorst(rho=rho_s, sigma=sigma_s, N=nS)\n",
    "    \n",
    "    # default incidence rules are proportional to skill\n",
    "    if tax_rule is None:\n",
    "        tax_rule = e_grid  # scale does not matter, will be normalized anyway\n",
    "    if div_rule is None:\n",
    "        div_rule = e_grid\n",
    "    assert len(tax_rule) == len(div_rule) == len(e_grid), 'Incidence rules are inconsistent with income grid.'\n",
    "\n",
    "    # solve analytically what we can\n",
    "    B = B_Y\n",
    "    w = 1 / mu\n",
    "    Div = (1 - w)\n",
    "    G = Tax - r * B #Tax = r * B + G\n",
    "    T = transfers(pi_e, Div, Tax, e_grid, div_rule, tax_rule)\n",
    "\n",
    "    # initialize guess for policy function iteration\n",
    "    fininc = (1 + r) * a_grid + T[:, np.newaxis] - a_grid[0]\n",
    "    coh = (1 + r) * a_grid[np.newaxis, :] + w * e_grid[:, np.newaxis] + T[:, np.newaxis]\n",
    "    Va = (1 + r) * (0.1 * coh) ** (-1 / eis)\n",
    "\n",
    "    # residual function\n",
    "    def res(x):\n",
    "        beta_loc, vphi_loc = x\n",
    "        # precompute constrained c and n which don't depend on Va\n",
    "        c_const_loc, n_const_loc = hank.solve_cn(w * e_grid[:, np.newaxis], fininc, eis, frisch, vphi_loc, Va)\n",
    "        if beta_loc > 0.999 / (1 + r) or vphi_loc < 0.001:\n",
    "            raise ValueError('Clearly invalid inputs')\n",
    "        out = household.ss(Va=Va, Pi=Pi, a_grid=a_grid, e_grid=e_grid, pi_e=pi_e, w=w, r=r, beta=beta_loc, eis=eis,\n",
    "                           Div=Div, Tax=Tax, frisch=frisch, vphi=vphi_loc, c_const=c_const_loc, n_const=n_const_loc,\n",
    "                           tax_rule=tax_rule, div_rule=div_rule, ssflag=True)\n",
    "        return np.array([out['A'] - B, out['NS'] - 1])\n",
    "\n",
    "    # solve for beta, vphi\n",
    "    (beta, vphi), _ = utils.broyden_solver(res, np.array([beta_guess, vphi_guess]), noisy=False)\n",
    "\n",
    "    # extra evaluation for reporting\n",
    "    c_const, n_const = hank.solve_cn(w * e_grid[:, np.newaxis], fininc, eis, frisch, vphi, Va)\n",
    "    ss = household.ss(Va=Va, Pi=Pi, a_grid=a_grid, e_grid=e_grid, pi_e=pi_e, w=w, r=r, beta=beta, eis=eis,\n",
    "                      Div=Div, Tax=Tax, frisch=frisch, vphi=vphi, c_const=c_const, n_const=n_const,\n",
    "                      tax_rule=tax_rule, div_rule=div_rule, ssflag=True)\n",
    "    \n",
    "    # check Walras's law\n",
    "    walras = 1 - G - ss['C']\n",
    "    assert np.abs(walras) < 1E-8\n",
    "    \n",
    "    # add aggregate variables\n",
    "    ss.update({'B': B, 'phi': phi, 'kappa': kappa, 'Y': 1, 'rstar': r, 'Z': 1, 'mu': mu, 'L': 1, 'pi': 0,\n",
    "               'walras': walras, 'ssflag': False, 'G': G})\n",
    "    return ss"
   ]
  },
  {
   "cell_type": "code",
   "execution_count": 6,
   "id": "396836f9",
   "metadata": {
    "scrolled": true
   },
   "outputs": [
    {
     "data": {
      "text/plain": [
       "dict_keys(['beta', 'frisch', 'eis', 'w', 'r', 'vphi', 'c_const', 'a_grid', 'ssflag', 'e_grid', 'n_const', 'T', 'Va', 'Pi', 'Div', 'pi_e', 'div_rule', 'tax_rule', 'Tax', 'a', 'c', 'n', 'ns', 'A', 'N', 'C', 'NS', 'D', 'B', 'phi', 'kappa', 'Y', 'rstar', 'Z', 'mu', 'L', 'pi', 'walras', 'G'])"
      ]
     },
     "execution_count": 6,
     "metadata": {},
     "output_type": "execute_result"
    }
   ],
   "source": [
    "# Get SS values\n",
    "ss = hank_ss()\n",
    "ss.keys()"
   ]
  },
  {
   "cell_type": "code",
   "execution_count": 7,
   "id": "94260aed",
   "metadata": {},
   "outputs": [
    {
     "data": {
      "text/plain": [
       "(0.2, 0.228, 0.005, 5.6, 0.2, 0.8000000055130119)"
      ]
     },
     "execution_count": 7,
     "metadata": {},
     "output_type": "execute_result"
    }
   ],
   "source": [
    "ss['G'], ss['Tax'], ss['r'], ss['B'], ss['Tax']-ss['B']*ss['r'], ss['C']"
   ]
  },
  {
   "cell_type": "code",
   "execution_count": 8,
   "id": "889c193e",
   "metadata": {},
   "outputs": [],
   "source": [
    "# Simple blocks - Benchmark\n",
    "@simple\n",
    "def firm(Y, w, Z, pi, mu, kappa):\n",
    "    L = Y / Z\n",
    "    Div = Y - w * L - mu/(mu-1)/(2*kappa) * np.log(1+pi)**2 * Y\n",
    "    return L, Div\n",
    "\n",
    "@simple\n",
    "def monetary(pi, rstar, phi):\n",
    "    r = (1 + rstar(-1) + phi * pi(-1)) / (1 + pi) - 1 #(Fisher + Taylor)\n",
    "    return r\n",
    "\n",
    "@simple\n",
    "def fiscal(r, B, Tax):\n",
    "    G = Tax - r * B #Tax = r * B \n",
    "    return G\n",
    "\n",
    "@simple\n",
    "def mkt_clearing(A, NS, C, L, Y, B, pi, mu, kappa, G):\n",
    "    asset_mkt = A - B\n",
    "    labor_mkt = NS - L\n",
    "    goods_mkt = Y - C - mu/(mu-1)/(2*kappa) * np.log(1+pi)**2 * Y - G #(G=0 here!) \n",
    "    return asset_mkt, labor_mkt, goods_mkt\n",
    "\n",
    "@simple\n",
    "def nkpc(pi, w, Z, Y, r, mu, kappa):\n",
    "    nkpc_res = kappa * (w / Z - 1 / mu) + Y(+1) / Y * np.log(1 + pi(+1)) / (1 + r(+1)) - np.log(1 + pi)\n",
    "    return nkpc_res"
   ]
  },
  {
   "cell_type": "code",
   "execution_count": 9,
   "id": "f426cd6e",
   "metadata": {},
   "outputs": [],
   "source": [
    "T = 300\n",
    "exogenous = ['rstar', 'Z', 'Tax']\n",
    "unknowns = ['pi', 'w', 'Y']\n",
    "targets = ['nkpc_res', 'asset_mkt', 'labor_mkt']\n",
    "block_list = [firm, monetary, fiscal, nkpc, mkt_clearing, household]\n",
    "outputs=['Y', 'G', 'r']"
   ]
  },
  {
   "cell_type": "code",
   "execution_count": 10,
   "id": "d6ac35c1",
   "metadata": {},
   "outputs": [],
   "source": [
    "# PE results to see what's up\n",
    "curlyJs, required = jac.curlyJ_sorted(block_list, unknowns + exogenous, ss, T,\n",
    "                                      save=False, use_saved=False)"
   ]
  },
  {
   "cell_type": "code",
   "execution_count": 11,
   "id": "54c6b5e0",
   "metadata": {},
   "outputs": [],
   "source": [
    "J_curlyH_U = jac.forward_accumulate(curlyJs, unknowns, targets, required)\n",
    "J_curlyH_Z = jac.forward_accumulate(curlyJs, exogenous, targets, required)\n",
    "H_U = jac.pack_jacobians(J_curlyH_U, unknowns, targets, T)\n",
    "H_Z = jac.pack_jacobians(J_curlyH_Z, exogenous, targets, T)\n",
    "G_U = jac.unpack_jacobians(-np.linalg.solve(H_U, H_Z), exogenous, unknowns, T)"
   ]
  },
  {
   "cell_type": "code",
   "execution_count": 12,
   "id": "a4ed4055",
   "metadata": {},
   "outputs": [
    {
     "data": {
      "text/plain": [
       "(dict_keys(['pi', 'w', 'Y']), dict_keys(['rstar', 'Z', 'Tax']))"
      ]
     },
     "execution_count": 12,
     "metadata": {},
     "output_type": "execute_result"
    }
   ],
   "source": [
    "G_U.keys(), G_U['pi'].keys()"
   ]
  },
  {
   "cell_type": "code",
   "execution_count": 13,
   "id": "2c3ff8a9",
   "metadata": {},
   "outputs": [
    {
     "data": {
      "text/plain": [
       "(dict_keys(['nkpc_res', 'asset_mkt', 'labor_mkt']),\n",
       " dict_keys(['pi', 'w', 'Y']))"
      ]
     },
     "execution_count": 13,
     "metadata": {},
     "output_type": "execute_result"
    }
   ],
   "source": [
    "J_curlyH_U.keys(), J_curlyH_U['asset_mkt'].keys()"
   ]
  },
  {
   "cell_type": "code",
   "execution_count": 15,
   "id": "c6c9052b",
   "metadata": {},
   "outputs": [],
   "source": [
    "J = jac.forward_accumulate(curlyJs, exogenous)"
   ]
  },
  {
   "cell_type": "code",
   "execution_count": 18,
   "id": "366a08c3",
   "metadata": {},
   "outputs": [
    {
     "data": {
      "text/plain": [
       "Text(0, 0.5, 'bp deviation from ss')"
      ]
     },
     "execution_count": 18,
     "metadata": {},
     "output_type": "execute_result"
    },
    {
     "data": {
      "image/png": "[encoded data removed]",
      "text/plain": [
       "<Figure size 1080x216 with 5 Axes>"
      ]
     },
     "metadata": {
      "needs_background": "light"
     },
     "output_type": "display_data"
    },
    {
     "data": {
      "image/png": "[encoded data removed]",
      "text/plain": [
       "<Figure size 1080x216 with 5 Axes>"
      ]
     },
     "metadata": {
      "needs_background": "light"
     },
     "output_type": "display_data"
    },
    {
     "data": {
      "image/png": "[encoded data removed]",
      "text/plain": [
       "<Figure size 1080x216 with 5 Axes>"
      ]
     },
     "metadata": {
      "needs_background": "light"
     },
     "output_type": "display_data"
    }
   ],
   "source": [
    "drstar = -0.0025 * 0.5 ** (np.arange(T)[:, np.newaxis])\n",
    "\n",
    "dr = J['r']['rstar'] @ drstar\n",
    "dC = J['C']['rstar'] @ drstar\n",
    "dG = J['G']['rstar'] @ drstar\n",
    "dA = J['A']['rstar'] @ drstar\n",
    "dNS = J['NS']['rstar'] @ drstar\n",
    "da_mkt = J['asset_mkt']['rstar'] @ drstar\n",
    "dl_mkt = J['labor_mkt']['rstar'] @ drstar\n",
    "dg_mkt = J['goods_mkt']['rstar'] @ drstar\n",
    "dpi = G_U['pi']['rstar'] @ drstar\n",
    "dw = G_U['w']['rstar'] @ drstar\n",
    "dY = G_U['Y']['rstar'] @ drstar\n",
    "daa_mkt = J_curlyH_Z['asset_mkt']['rstar'] @ drstar\n",
    "dll_mkt = J_curlyH_Z['labor_mkt']['rstar'] @ drstar\n",
    "\n",
    "dTax = dr*ss['B'] + dG\n",
    "\n",
    "fig = plt.figure(figsize = (15, 3))\n",
    "ax = fig.add_subplot(1, 5, 1)\n",
    "ax.plot(10000 * drstar[:21])\n",
    "ax.set_title('Shock to rstar')\n",
    "ax.set_xlabel('quarters')\n",
    "ax.set_ylabel('bp deviation from ss')\n",
    "ax = fig.add_subplot(1, 5, 2)\n",
    "ax.plot(10000 * dr[:21])\n",
    "ax.set_title('r')\n",
    "ax.set_xlabel('quarters')\n",
    "ax.set_ylabel('bp deviation from ss')\n",
    "ax = fig.add_subplot(1, 5, 3)\n",
    "ax.plot(10000 * dC[:21])\n",
    "ax.set_title('C')\n",
    "ax.set_xlabel('quarters')\n",
    "ax.set_ylabel('bp deviation from ss')\n",
    "ax = fig.add_subplot(1, 5, 4)\n",
    "ax.plot(10000 * dG[:21])\n",
    "ax.set_title('G')\n",
    "ax.set_xlabel('quarters')\n",
    "ax.set_ylabel('bp deviation from ss')\n",
    "ax = fig.add_subplot(1, 5, 5)\n",
    "ax.plot(10000 * dA[:21])\n",
    "ax.set_title('A')\n",
    "ax.set_xlabel('quarters')\n",
    "ax.set_ylabel('bp deviation from ss')\n",
    "\n",
    "fig = plt.figure(figsize = (15, 3))\n",
    "ax = fig.add_subplot(1, 5, 1)\n",
    "ax.plot(10000 * dNS[:21])\n",
    "ax.set_title('NS')\n",
    "ax.set_xlabel('quarters')\n",
    "ax.set_ylabel('bp deviation from ss')\n",
    "ax = fig.add_subplot(1, 5, 2)\n",
    "ax.plot(10000 * dTax[:21])\n",
    "ax.set_title('Tax')\n",
    "ax.set_xlabel('quarters')\n",
    "ax.set_ylabel('bp deviation from ss')\n",
    "ax = fig.add_subplot(1, 5, 3)\n",
    "ax.plot(10000 * da_mkt[:21])\n",
    "ax.set_title('A_MK')\n",
    "ax.set_xlabel('quarters')\n",
    "ax.set_ylabel('bp deviation from ss')\n",
    "ax = fig.add_subplot(1, 5, 4)\n",
    "ax.plot(10000 * dl_mkt[:21])\n",
    "ax.set_title('L_MK')\n",
    "ax.set_xlabel('quarters')\n",
    "ax.set_ylabel('bp deviation from ss')\n",
    "ax = fig.add_subplot(1, 5, 5)\n",
    "ax.plot(10000 * dg_mkt[:21])\n",
    "ax.set_title('G_MK')\n",
    "ax.set_xlabel('quarters')\n",
    "ax.set_ylabel('bp deviation from ss')\n",
    "\n",
    "fig = plt.figure(figsize = (15, 3))\n",
    "ax = fig.add_subplot(1, 6, 1)\n",
    "ax.plot(10000 * dpi[:21])\n",
    "ax.set_title('Pi')\n",
    "ax.set_xlabel('quarters')\n",
    "ax.set_ylabel('bp deviation from ss')\n",
    "ax = fig.add_subplot(1, 6, 2)\n",
    "ax.plot(10000 * dw[:21])\n",
    "ax.set_title('w')\n",
    "ax.set_xlabel('quarters')\n",
    "ax.set_ylabel('bp deviation from ss')\n",
    "ax = fig.add_subplot(1, 6, 3)\n",
    "ax.plot(10000 * dY[:21])\n",
    "ax.set_title('Y')\n",
    "ax.set_xlabel('quarters')\n",
    "ax.set_ylabel('bp deviation from ss')\n",
    "ax = fig.add_subplot(1, 6, 4)\n",
    "ax.plot(10000 * daa_mkt[:21])\n",
    "ax.set_title('AA_MK')\n",
    "ax.set_xlabel('quarters')\n",
    "ax.set_ylabel('bp deviation from ss')\n",
    "ax = fig.add_subplot(1, 6, 5)\n",
    "ax.plot(10000 * dll_mkt[:21])\n",
    "ax.set_title('LL_MK')\n",
    "ax.set_xlabel('quarters')\n",
    "ax.set_ylabel('bp deviation from ss')"
   ]
  },
  {
   "cell_type": "code",
   "execution_count": null,
   "id": "706a303b",
   "metadata": {},
   "outputs": [],
   "source": [
    "dg_mkt[1], dC[1] + dG[1], dG[1], dC[1], np.sum(dg_mkt[10]+ (dC[10] + dG[10]))"
   ]
  },
  {
   "cell_type": "code",
   "execution_count": null,
   "id": "fa250247",
   "metadata": {},
   "outputs": [],
   "source": [
    "# Solve for all jacobians (and, therefore, all IRFs)\n",
    "# setup\n",
    "T = 300\n",
    "exogenous = ['rstar', 'Z', 'Tax']\n",
    "unknowns = ['pi', 'w', 'Y']\n",
    "targets = ['nkpc_res', 'asset_mkt', 'labor_mkt']\n",
    "\n",
    "# general equilibrium jacobians\n",
    "block_list = [firm, monetary, fiscal, nkpc, mkt_clearing, household] \n",
    "G = jac.get_G(block_list, exogenous, unknowns, targets, T, ss, save=True)"
   ]
  },
  {
   "cell_type": "code",
   "execution_count": null,
   "id": "9037fea8",
   "metadata": {},
   "outputs": [],
   "source": [
    "# household.outputs, firm.outputs, fiscal.outputs, nkpc.outputs"
   ]
  },
  {
   "cell_type": "code",
   "execution_count": null,
   "id": "6e2b747c",
   "metadata": {},
   "outputs": [],
   "source": [
    "# household.inputs, firm.inputs, fiscal.inputs, nkpc.inputs, household.outputs"
   ]
  },
  {
   "cell_type": "code",
   "execution_count": null,
   "id": "b10d11fe",
   "metadata": {},
   "outputs": [],
   "source": [
    "# What's in G? We have all endogenous variables and their responses to changes in exogenous variables (rstar, Z)\n",
    "print(G.keys())\n",
    "print(G['Y'].keys())"
   ]
  },
  {
   "cell_type": "code",
   "execution_count": null,
   "id": "4d52876b",
   "metadata": {},
   "outputs": [],
   "source": [
    "# dict_keys(['L', 'goods_mkt', 'pi', 'C', 'NS', 'r', 'A', 'w', 'Tax', 'Y', 'Div', 'N'])\n",
    "# dict_keys(['rstar', 'Z', 'G'])"
   ]
  },
  {
   "cell_type": "code",
   "execution_count": null,
   "id": "451d99f9",
   "metadata": {},
   "outputs": [],
   "source": [
    "# Some charts: expansionary MP shock\n",
    "drstar = -0.0025 * 0.5 ** (np.arange(T)[:, np.newaxis])\n",
    "\n",
    "dr = G['r']['rstar'] @ drstar\n",
    "dY = G['Y']['rstar'] @ drstar\n",
    "dpi = G['pi']['rstar'] @ drstar\n",
    "# dTax = G['Tax']['rstar'] @ drstar\n",
    "dTax = G['G']['rstar'] @ drstar\n",
    "dw = G['w']['rstar'] @ drstar\n",
    "dDiv = G['Div']['rstar'] @ drstar\n",
    "dC = G['C']['rstar'] @ drstar\n",
    "dL = G['L']['rstar'] @ drstar\n",
    "# dmk = G['goods_mkt']['rstar'] @ drstar\n",
    "\n",
    "# dend_drstar = {}\n",
    "fig = plt.figure(figsize = (15, 10))\n",
    "ax = fig.add_subplot(3, 4, 1)\n",
    "ax.plot(10000 * drstar[:21])\n",
    "ax.set_title('Shock to rstar')\n",
    "ax.set_xlabel('quarters')\n",
    "ax.set_ylabel('bp deviation from ss')\n",
    "ax = fig.add_subplot(3, 4, 2)\n",
    "ax.plot(10000 * dr[:21])\n",
    "ax.set_title(r'Real rate')\n",
    "ax.set_xlabel('quarters')\n",
    "ax.set_ylabel('bp deviation from ss')\n",
    "ax = fig.add_subplot(3, 4, 3)\n",
    "ax.plot(10000 * dY[:21])\n",
    "ax.set_title(r'Y')\n",
    "ax.set_xlabel('quarters')\n",
    "ax.set_ylabel('bp deviation from ss')\n",
    "ax = fig.add_subplot(3, 4, 4)\n",
    "ax.plot(10000 * dpi[:21])\n",
    "ax.set_title(r'Inflation')\n",
    "ax.set_xlabel('quarters')\n",
    "ax.set_ylabel('bp deviation from ss')\n",
    "ax = fig.add_subplot(3, 4, 5)\n",
    "ax.plot(10000 * dTax[:21])\n",
    "ax.set_title(r'Tax')\n",
    "ax.set_xlabel('quarters')\n",
    "ax.set_ylabel('bp deviation from ss')\n",
    "ax = fig.add_subplot(3, 4, 6)\n",
    "ax.plot(10000 * dw[:21])\n",
    "ax.set_title(r'Wage')\n",
    "ax.set_xlabel('quarters')\n",
    "ax.set_ylabel('bp deviation from ss')\n",
    "ax = fig.add_subplot(3, 4, 7)\n",
    "ax.plot(10000 * dDiv[:21])\n",
    "ax.set_title(r'Dividends')\n",
    "ax.set_xlabel('quarters')\n",
    "ax.set_ylabel('bp deviation from ss')\n",
    "ax = fig.add_subplot(3, 4, 8)\n",
    "ax.plot(10000 * dC[:21])\n",
    "ax.set_title(r'Consumption')\n",
    "ax.set_xlabel('quarters')\n",
    "ax.set_ylabel('bp deviation from ss')\n",
    "ax = fig.add_subplot(3, 4, 9)\n",
    "ax.plot(10000 * dL[:21])\n",
    "ax.set_title(r'L')\n",
    "ax.set_xlabel('quarters')\n",
    "ax.set_ylabel('bp deviation from ss')\n",
    "ax = fig.add_subplot(3, 4, 10)\n",
    "# ax.plot(10000 * dmk[:21])\n",
    "# ax.set_title(r'MK')\n",
    "# ax.set_xlabel('quarters')\n",
    "# ax.set_ylabel('bp deviation from ss')"
   ]
  },
  {
   "cell_type": "code",
   "execution_count": null,
   "id": "dda53814",
   "metadata": {},
   "outputs": [],
   "source": [
    "# Some charts: expansionary MP shock\n",
    "dTax = -0.0025 * 0.5 ** (np.arange(T)[:, np.newaxis])\n",
    "\n",
    "dr = G['r']['Tax'] @ dTax\n",
    "dY = G['Y']['Tax'] @ dTax\n",
    "dpi = G['pi']['Tax'] @ dTax\n",
    "dTax = G['G']['Tax'] @ dTax\n",
    "dw = G['w']['Tax'] @ dTax\n",
    "dDiv = G['Div']['Tax'] @ dTax\n",
    "dC = G['C']['Tax'] @ dTax\n",
    "dL = G['L']['Tax'] @ dTax\n",
    "\n",
    "# dend_drstar = {}\n",
    "fig = plt.figure(figsize = (15, 10))\n",
    "ax = fig.add_subplot(3, 4, 1)\n",
    "ax.plot(10000 * dTax[:21])\n",
    "ax.set_title('Shock to G')\n",
    "ax.set_xlabel('quarters')\n",
    "ax.set_ylabel('bp deviation from ss')\n",
    "ax = fig.add_subplot(3, 4, 2)\n",
    "ax.plot(10000 * dr[:21])\n",
    "ax.set_title(r'Real rate')\n",
    "ax.set_xlabel('quarters')\n",
    "ax.set_ylabel('bp deviation from ss')\n",
    "ax = fig.add_subplot(3, 4, 3)\n",
    "ax.plot(10000 * dY[:21])\n",
    "ax.set_title(r'Y')\n",
    "ax.set_xlabel('quarters')\n",
    "ax.set_ylabel('bp deviation from ss')\n",
    "ax = fig.add_subplot(3, 4, 4)\n",
    "ax.plot(10000 * dpi[:21])\n",
    "ax.set_title(r'Inflation')\n",
    "ax.set_xlabel('quarters')\n",
    "ax.set_ylabel('bp deviation from ss')\n",
    "ax = fig.add_subplot(3, 4, 5)\n",
    "ax.plot(10000 * dTax[:21])\n",
    "ax.set_title(r'Tax')\n",
    "ax.set_xlabel('quarters')\n",
    "ax.set_ylabel('bp deviation from ss')\n",
    "ax = fig.add_subplot(3, 4, 6)\n",
    "ax.plot(10000 * dw[:21])\n",
    "ax.set_title(r'Wage')\n",
    "ax.set_xlabel('quarters')\n",
    "ax.set_ylabel('bp deviation from ss')\n",
    "ax = fig.add_subplot(3, 4, 7)\n",
    "ax.plot(10000 * dDiv[:21])\n",
    "ax.set_title(r'Dividends')\n",
    "ax.set_xlabel('quarters')\n",
    "ax.set_ylabel('bp deviation from ss')\n",
    "ax = fig.add_subplot(3, 4, 8)\n",
    "ax.plot(10000 * dC[:21])\n",
    "ax.set_title(r'Consumption')\n",
    "ax.set_xlabel('quarters')\n",
    "ax.set_ylabel('bp deviation from ss')\n",
    "ax = fig.add_subplot(3, 4, 9)\n",
    "ax.plot(10000 * dL[:21])\n",
    "ax.set_title(r'L')\n",
    "ax.set_xlabel('quarters')\n",
    "ax.set_ylabel('bp deviation from ss')\n",
    "# ax = fig.add_subplot(3, 4, 10)\n",
    "# ax.plot(10000 * dL[:21])\n",
    "# ax.set_title(r'L')\n",
    "# ax.set_xlabel('quarters')\n",
    "# ax.set_ylabel('bp deviation from ss')"
   ]
  },
  {
   "cell_type": "code",
   "execution_count": null,
   "id": "8594d658",
   "metadata": {},
   "outputs": [],
   "source": []
  }
 ],
 "metadata": {
  "kernelspec": {
   "display_name": "Python 3",
   "language": "python",
   "name": "python3"
  },
  "language_info": {
   "codemirror_mode": {
    "name": "ipython",
    "version": 3
   },
   "file_extension": ".py",
   "mimetype": "text/x-python",
   "name": "python",
   "nbconvert_exporter": "python",
   "pygments_lexer": "ipython3",
   "version": "3.7.10"
  }
 },
 "nbformat": 4,
 "nbformat_minor": 5
}
